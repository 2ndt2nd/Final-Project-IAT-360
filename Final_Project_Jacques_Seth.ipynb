{
 "cells": [
  {
   "cell_type": "markdown",
   "metadata": {
    "colab_type": "text",
    "id": "view-in-github"
   },
   "source": [
    "<a href=\"https://colab.research.google.com/github/2ndt2nd/Final-Project-IAT-360/blob/main/Final_Project_Jacques_Seth.ipynb\" target=\"_parent\"><img src=\"https://colab.research.google.com/assets/colab-badge.svg\" alt=\"Open In Colab\"/></a>"
   ]
  },
  {
   "cell_type": "markdown",
   "metadata": {
    "id": "URt4Q-TNmNDj"
   },
   "source": [
    "<center><h1> <b> IAT 360 Final Project <b> </h1></center>"
   ]
  },
  {
   "cell_type": "markdown",
   "metadata": {
    "id": "ZIi4bjh7mIJd"
   },
   "source": [
    "This is the final project for IAT 360\n",
    "Group Members:\n",
    "    - Seth van der Zweep (301461888)\n",
    "    - Jacques Davidson Widodo (301443163)\n"
   ]
  },
  {
   "cell_type": "markdown",
   "metadata": {
    "id": "rr-j-jCmaHId"
   },
   "source": [
    "<h2>Importing required Libraries<h2>"
   ]
  },
  {
   "cell_type": "markdown",
   "metadata": {
    "id": "eU9ykEdueYv3"
   },
   "source": [
    "<strong>Import Ultralytics</strong>\n",
    "\n",
    "Run this one\n"
   ]
  },
  {
   "cell_type": "code",
   "execution_count": 2,
   "metadata": {
    "colab": {
     "base_uri": "https://localhost:8080/"
    },
    "id": "VFjZ0ujPrnes",
    "outputId": "22ca828a-ae5f-4861-abb4-195a65cf4600"
   },
   "outputs": [
    {
     "name": "stdout",
     "output_type": "stream",
     "text": [
      "Ultralytics 8.3.38 🚀 Python-3.12.7 torch-2.5.1+cu124 CPU (11th Gen Intel Core(TM) i5-1135G7 2.40GHz)\n",
      "Setup complete ✅ (8 CPUs, 19.3 GB RAM, 0.0/9.7 GB disk)\n",
      "Webcam opened successfully!\n"
     ]
    }
   ],
   "source": [
    "import ultralytics\n",
    "ultralytics.checks()\n",
    "\n",
    "from ultralytics import YOLO\n",
    "\n",
    "model = YOLO('best.pt')\n",
    "\n",
    "#CV2 as well\n",
    "import cv2\n",
    "cap = cv2.VideoCapture(0)  # Try different indices like 0, 1, 2\n",
    "if not cap.isOpened():\n",
    "    print(\"Error: Could not open webcam.\")\n",
    "else:\n",
    "    print(\"Webcam opened successfully!\")\n",
    "    \n",
    "cap.release()"
   ]
  },
  {
   "cell_type": "markdown",
   "metadata": {
    "id": "f1DiEK1fcziv"
   },
   "source": [
    "<strong>Process Feed</strong>\n",
    "\n",
    "Not used as combined with code above"
   ]
  },
  {
   "cell_type": "code",
   "execution_count": null,
   "metadata": {},
   "outputs": [],
   "source": [
    "'''import cv2\n",
    "\n",
    "cap = cv2.VideoCapture(0)  # Try different indices like 0, 1, 2\n",
    "if not cap.isOpened():\n",
    "    print(\"Error: Could not open webcam.\")\n",
    "else:\n",
    "    print(\"Webcam opened successfully!\")\n",
    "    \n",
    "cap.release()'''"
   ]
  },
  {
   "cell_type": "markdown",
   "metadata": {},
   "source": [
    "<strong>Enum States</strong>\n",
    "For the states\n",
    "\n",
    "Run this one\n"
   ]
  },
  {
   "cell_type": "code",
   "execution_count": null,
   "metadata": {},
   "outputs": [],
   "source": [
    "from enum import Enum\n",
    "\n",
    "class State(Enum):\n",
    "    START = 0\n",
    "    ROW_SELECTED = 1\n",
    "    COLUMN_SELECTED = 2\n",
    "    DISPENSING = 3\n",
    "\n",
    "class Detect(Enum):\n",
    "    ONE = 5\n",
    "    PEACE = 2\n",
    "    THREE = 0\n",
    "    FOUR = 6\n",
    "    LIKE = 3\n",
    "    DISLIKE = 4\n",
    "    THUMB_INDEX = 1\n",
    "    OK = 7\n",
    "\n",
    "class Command(Enum):\n",
    "    ONE = 1\n",
    "    PEACE = 2\n",
    "    THREE = 3\n",
    "    FOUR = 4\n",
    "    LIKE = 5\n",
    "    DISLIKE = 6\n",
    "    THUMB_INDEX = 7\n",
    "    OK = 8"
   ]
  },
  {
   "cell_type": "markdown",
   "metadata": {},
   "source": [
    "<strong>For Linux</strong>\n",
    "\n",
    "Testing video output for Linux (different back end)"
   ]
  },
  {
   "cell_type": "code",
   "execution_count": 4,
   "metadata": {
    "colab": {
     "base_uri": "https://localhost:8080/"
    },
    "id": "V3T_Ahl2avFK",
    "outputId": "ded027a7-50c3-4873-ed1d-579411be1d2f"
   },
   "outputs": [],
   "source": [
    "def process_video_feed(model):\n",
    "    cap = cv2.VideoCapture(0, cv2.CAP_V4L2)  # Adjust backend for your OS\n",
    "    cap.set(cv2.CAP_PROP_FRAME_WIDTH, 8)\n",
    "    cap.set(cv2.CAP_PROP_FRAME_HEIGHT, 3.5)\n",
    "    cap.set(cv2.CAP_PROP_FPS, 10)  # Adjust FPS\n",
    "    \n",
    "    if not cap.isOpened():\n",
    "        print(\"Error: Could not open webcam.\")\n",
    "        return\n",
    "\n",
    "    while True:\n",
    "        ret, frame = cap.read()  # Capture frame\n",
    "        if not ret:\n",
    "            print(\"Error: Failed to grab frame.\")\n",
    "            break\n",
    "\n",
    "        frame = cv2.resize(frame, (640, 480))\n",
    "        results = model.predict(frame, conf=0.75)  # YOLO inference\n",
    "        rendered_frame = results[0].plot()\n",
    "        cv2.imshow(\"Webcam Feed\", rendered_frame)\n",
    "\n",
    "        if cv2.waitKey(1) & 0xFF == ord('q'):\n",
    "            break\n",
    "    \n",
    "    \n",
    "    \n",
    "    cap.release()\n",
    "    cv2.destroyAllWindows()\n"
   ]
  },
  {
   "cell_type": "markdown",
   "metadata": {},
   "source": [
    "<strong>For Windows</strong>\n",
    "\n",
    "Testing video output for windows (different back end)"
   ]
  },
  {
   "cell_type": "code",
   "execution_count": null,
   "metadata": {},
   "outputs": [],
   "source": [
    "def process_video_feed(model):\n",
    "    cap = cv2.VideoCapture(0, cv2.CAP_DSHOW)  # Adjust backend for your OS\n",
    "    cap.set(cv2.CAP_PROP_FRAME_WIDTH, 8)\n",
    "    cap.set(cv2.CAP_PROP_FRAME_HEIGHT, 3.5)\n",
    "    cap.set(cv2.CAP_PROP_FPS, 10)  # Adjust FPS\n",
    "    \n",
    "    if not cap.isOpened():\n",
    "        print(\"Error: Could not open webcam.\")\n",
    "        return\n",
    "\n",
    "    while True:\n",
    "        ret, frame = cap.read()  # Capture frame\n",
    "        if not ret:\n",
    "            print(\"Error: Failed to grab frame.\")\n",
    "            break\n",
    "\n",
    "        frame = cv2.resize(frame, (640, 480))\n",
    "\n",
    "        results = model.predict(frame, conf=0.75)  # YOLO inference\n",
    "        rendered_frame = results[0].plot()\n",
    "        cv2.imshow(\"Webcam Feed\", rendered_frame)\n",
    "\n",
    "        class_ids = [int(box.cls[0].item()) for box in results[0].boxes]\n",
    "        print(class_ids)\n",
    "\n",
    "        if cv2.waitKey(1) & 0xFF == ord('q'):\n",
    "            break\n",
    "    \n",
    "    \n",
    "    \n",
    "    cap.release()\n",
    "    cv2.destroyAllWindows()"
   ]
  },
  {
   "cell_type": "markdown",
   "metadata": {},
   "source": [
    "<h2>New In Progress Video Function</h2>"
   ]
  },
  {
   "cell_type": "code",
   "execution_count": 4,
   "metadata": {},
   "outputs": [],
   "source": [
    "def new_process_video_feed(model, cap):\n",
    "        ret, frame = cap.read()  # Capture frame\n",
    "        if not ret:\n",
    "            print(\"Error: Failed to grab frame.\")\n",
    "            return 0\n",
    "\n",
    "        frame = cv2.resize(frame, (640, 480))\n",
    "        results =   model.predict(frame, conf=0.7)  # YOLO inference\n",
    "        rendered_frame = results[0].plot()\n",
    "        cv2.imshow(\"Webcam Feed\", rendered_frame)\n",
    "\n",
    "        class_ids = [int(box.cls[0].item()) for box in results[0].boxes]\n",
    "        \n",
    "        return class_ids"
   ]
  },
  {
   "cell_type": "markdown",
   "metadata": {},
   "source": [
    "<h2>New In Progress Main</h2>"
   ]
  },
  {
   "cell_type": "code",
   "execution_count": 5,
   "metadata": {},
   "outputs": [],
   "source": [
    "def main(model):\n",
    "    hold = 0\n",
    "    state = State.START\n",
    "    #cap = cv2.VideoCapture(0, cv2.CAP_DSHOW)  # For Windows\n",
    "    cap = cv2.VideoCapture(0, cv2.CAP_V4L2)  # For Linux\n",
    "    cap.set(cv2.CAP_PROP_FRAME_WIDTH, 16)\n",
    "    cap.set(cv2.CAP_PROP_FRAME_HEIGHT, 7)\n",
    "    cap.set(cv2.CAP_PROP_FPS, 30)  # Adjust FPS\n",
    "    \n",
    "    if not cap.isOpened():\n",
    "        print(\"Error: Could not open webcam.\")\n",
    "        return\n",
    "\n",
    "    while True:\n",
    "        gesture = new_process_video_feed(model, cap)\n",
    "        if(not gesture):\n",
    "            hold = 0\n",
    "        else:\n",
    "            hold+=1\n",
    "            print(hold)\n",
    "            print(gesture[0])\n",
    "\n",
    "        if(hold==10):\n",
    "            hold = 0\n",
    "            \n",
    "            if(state == State.START):\n",
    "                print(\"state is zero\")\n",
    "            elif(state == State.ROW_SELECTED):\n",
    "                print(\"state is one\")\n",
    "            elif(state == State.COLUMN_SELECTED):\n",
    "                print(\"state is two\")\n",
    "            elif(state == State.DISPENSING):\n",
    "                print(\"state is three\")\n",
    "\n",
    "        if cv2.waitKey(1) & 0xFF == ord('q'):\n",
    "            break\n",
    "    \n",
    "    cap.release()\n",
    "    cv2.destroyAllWindows()"
   ]
  },
  {
   "cell_type": "markdown",
   "metadata": {},
   "source": [
    "<h2>Old Main</h2>\n",
    "Run this one"
   ]
  },
  {
   "cell_type": "code",
   "execution_count": 10,
   "metadata": {},
   "outputs": [
    {
     "name": "stdout",
     "output_type": "stream",
     "text": [
      "\n",
      "0: 480x640 (no detections), 140.9ms\n",
      "Speed: 0.9ms preprocess, 140.9ms inference, 0.5ms postprocess per image at shape (1, 3, 480, 640)\n",
      "\n",
      "0: 480x640 (no detections), 152.0ms\n",
      "Speed: 2.5ms preprocess, 152.0ms inference, 0.4ms postprocess per image at shape (1, 3, 480, 640)\n",
      "\n",
      "0: 480x640 (no detections), 145.7ms\n",
      "Speed: 1.1ms preprocess, 145.7ms inference, 0.7ms postprocess per image at shape (1, 3, 480, 640)\n",
      "\n",
      "0: 480x640 (no detections), 134.2ms\n",
      "Speed: 1.0ms preprocess, 134.2ms inference, 0.5ms postprocess per image at shape (1, 3, 480, 640)\n",
      "\n",
      "0: 480x640 (no detections), 128.3ms\n",
      "Speed: 2.1ms preprocess, 128.3ms inference, 0.4ms postprocess per image at shape (1, 3, 480, 640)\n",
      "\n",
      "0: 480x640 (no detections), 165.8ms\n",
      "Speed: 1.0ms preprocess, 165.8ms inference, 0.4ms postprocess per image at shape (1, 3, 480, 640)\n",
      "\n",
      "0: 480x640 (no detections), 137.4ms\n",
      "Speed: 1.1ms preprocess, 137.4ms inference, 0.7ms postprocess per image at shape (1, 3, 480, 640)\n",
      "\n",
      "0: 480x640 (no detections), 143.9ms\n",
      "Speed: 1.0ms preprocess, 143.9ms inference, 0.8ms postprocess per image at shape (1, 3, 480, 640)\n",
      "\n",
      "0: 480x640 (no detections), 144.6ms\n",
      "Speed: 1.1ms preprocess, 144.6ms inference, 0.4ms postprocess per image at shape (1, 3, 480, 640)\n",
      "\n",
      "0: 480x640 1 ok, 136.0ms\n",
      "Speed: 1.5ms preprocess, 136.0ms inference, 0.8ms postprocess per image at shape (1, 3, 480, 640)\n",
      "1\n",
      "7\n",
      "\n",
      "0: 480x640 1 ok, 134.0ms\n",
      "Speed: 1.6ms preprocess, 134.0ms inference, 0.9ms postprocess per image at shape (1, 3, 480, 640)\n",
      "2\n",
      "7\n",
      "\n",
      "0: 480x640 1 ok, 151.7ms\n",
      "Speed: 1.1ms preprocess, 151.7ms inference, 5.6ms postprocess per image at shape (1, 3, 480, 640)\n",
      "3\n",
      "7\n",
      "\n",
      "0: 480x640 1 ok, 158.9ms\n",
      "Speed: 1.1ms preprocess, 158.9ms inference, 0.7ms postprocess per image at shape (1, 3, 480, 640)\n",
      "4\n",
      "7\n",
      "\n",
      "0: 480x640 1 ok, 150.1ms\n",
      "Speed: 4.5ms preprocess, 150.1ms inference, 1.1ms postprocess per image at shape (1, 3, 480, 640)\n",
      "5\n",
      "7\n",
      "\n",
      "0: 480x640 1 ok, 133.8ms\n",
      "Speed: 1.2ms preprocess, 133.8ms inference, 0.7ms postprocess per image at shape (1, 3, 480, 640)\n",
      "6\n",
      "7\n",
      "\n",
      "0: 480x640 1 ok, 148.0ms\n",
      "Speed: 1.0ms preprocess, 148.0ms inference, 0.6ms postprocess per image at shape (1, 3, 480, 640)\n",
      "7\n",
      "7\n",
      "\n",
      "0: 480x640 1 ok, 143.2ms\n",
      "Speed: 1.0ms preprocess, 143.2ms inference, 0.8ms postprocess per image at shape (1, 3, 480, 640)\n",
      "8\n",
      "7\n",
      "\n",
      "0: 480x640 1 ok, 178.8ms\n",
      "Speed: 2.0ms preprocess, 178.8ms inference, 5.0ms postprocess per image at shape (1, 3, 480, 640)\n",
      "9\n",
      "7\n",
      "\n",
      "0: 480x640 1 ok, 189.0ms\n",
      "Speed: 10.9ms preprocess, 189.0ms inference, 0.8ms postprocess per image at shape (1, 3, 480, 640)\n",
      "10\n",
      "7\n",
      "state is zero\n",
      "\n",
      "0: 480x640 (no detections), 151.6ms\n",
      "Speed: 1.2ms preprocess, 151.6ms inference, 0.4ms postprocess per image at shape (1, 3, 480, 640)\n",
      "\n",
      "0: 480x640 (no detections), 148.0ms\n",
      "Speed: 1.1ms preprocess, 148.0ms inference, 0.5ms postprocess per image at shape (1, 3, 480, 640)\n",
      "\n",
      "0: 480x640 (no detections), 152.4ms\n",
      "Speed: 1.3ms preprocess, 152.4ms inference, 0.8ms postprocess per image at shape (1, 3, 480, 640)\n",
      "\n",
      "0: 480x640 (no detections), 138.5ms\n",
      "Speed: 1.9ms preprocess, 138.5ms inference, 0.4ms postprocess per image at shape (1, 3, 480, 640)\n",
      "\n",
      "0: 480x640 (no detections), 143.6ms\n",
      "Speed: 1.0ms preprocess, 143.6ms inference, 0.6ms postprocess per image at shape (1, 3, 480, 640)\n",
      "\n",
      "0: 480x640 (no detections), 165.3ms\n",
      "Speed: 1.4ms preprocess, 165.3ms inference, 0.5ms postprocess per image at shape (1, 3, 480, 640)\n",
      "\n",
      "0: 480x640 (no detections), 143.2ms\n",
      "Speed: 2.1ms preprocess, 143.2ms inference, 0.4ms postprocess per image at shape (1, 3, 480, 640)\n",
      "\n",
      "0: 480x640 (no detections), 159.4ms\n",
      "Speed: 1.2ms preprocess, 159.4ms inference, 0.5ms postprocess per image at shape (1, 3, 480, 640)\n",
      "\n",
      "0: 480x640 (no detections), 153.6ms\n",
      "Speed: 1.1ms preprocess, 153.6ms inference, 0.6ms postprocess per image at shape (1, 3, 480, 640)\n"
     ]
    }
   ],
   "source": [
    "main(model)"
   ]
  },
  {
   "cell_type": "markdown",
   "metadata": {},
   "source": [
    "<h2>Testing Video Only</h2>"
   ]
  },
  {
   "cell_type": "code",
   "execution_count": 8,
   "metadata": {},
   "outputs": [
    {
     "ename": "NameError",
     "evalue": "name 'process_video_feed' is not defined",
     "output_type": "error",
     "traceback": [
      "\u001b[0;31m---------------------------------------------------------------------------\u001b[0m",
      "\u001b[0;31mNameError\u001b[0m                                 Traceback (most recent call last)",
      "Cell \u001b[0;32mIn[8], line 2\u001b[0m\n\u001b[1;32m      1\u001b[0m \u001b[38;5;66;03m# Start processing the webcam feed\u001b[39;00m\n\u001b[0;32m----> 2\u001b[0m \u001b[43mprocess_video_feed\u001b[49m(model)\n\u001b[1;32m      3\u001b[0m \u001b[38;5;66;03m#main(model)\u001b[39;00m\n",
      "\u001b[0;31mNameError\u001b[0m: name 'process_video_feed' is not defined"
     ]
    }
   ],
   "source": [
    "# Start processing the webcam feed\n",
    "process_video_feed(model)\n",
    "#main(model)\n"
   ]
  }
 ],
 "metadata": {
  "accelerator": "GPU",
  "colab": {
   "collapsed_sections": [
    "3BCBLWEHPxeW"
   ],
   "gpuType": "T4",
   "include_colab_link": true,
   "provenance": [],
   "toc_visible": true
  },
  "kernelspec": {
   "display_name": "Python 3",
   "name": "python3"
  },
  "language_info": {
   "codemirror_mode": {
    "name": "ipython",
    "version": 3
   },
   "file_extension": ".py",
   "mimetype": "text/x-python",
   "name": "python",
   "nbconvert_exporter": "python",
   "pygments_lexer": "ipython3",
   "version": "3.12.6"
  }
 },
 "nbformat": 4,
 "nbformat_minor": 0
}
