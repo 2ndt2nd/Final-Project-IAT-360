{
 "cells": [
  {
   "cell_type": "markdown",
   "metadata": {
    "colab_type": "text",
    "id": "view-in-github"
   },
   "source": [
    "<a href=\"https://colab.research.google.com/github/2ndt2nd/Final-Project-IAT-360/blob/main/Final_Project_Jacques_Seth.ipynb\" target=\"_parent\"><img src=\"https://colab.research.google.com/assets/colab-badge.svg\" alt=\"Open In Colab\"/></a>"
   ]
  },
  {
   "cell_type": "markdown",
   "metadata": {
    "id": "URt4Q-TNmNDj"
   },
   "source": [
    "<center><h1> <b> IAT 360 Final Project <b> </h1></center>"
   ]
  },
  {
   "cell_type": "markdown",
   "metadata": {
    "id": "ZIi4bjh7mIJd"
   },
   "source": [
    "This is the final project for IAT 360\n",
    "Group Members:\n",
    "    - Seth van der Zweep (301461888)\n",
    "    - Jacques Davidson Widodo (301443163)\n"
   ]
  },
  {
   "cell_type": "markdown",
   "metadata": {
    "id": "rr-j-jCmaHId"
   },
   "source": [
    "<h2>Importing required Libraries<h2>"
   ]
  },
  {
   "cell_type": "code",
   "execution_count": null,
   "metadata": {
    "id": "3_BT3x6HaFLn"
   },
   "outputs": [
    {
     "name": "stderr",
     "output_type": "stream",
     "text": [
      "2024-11-27 15:57:23.192844: I tensorflow/core/util/port.cc:153] oneDNN custom operations are on. You may see slightly different numerical results due to floating-point round-off errors from different computation orders. To turn them off, set the environment variable `TF_ENABLE_ONEDNN_OPTS=0`.\n",
      "2024-11-27 15:57:23.227621: E external/local_xla/xla/stream_executor/cuda/cuda_fft.cc:477] Unable to register cuFFT factory: Attempting to register factory for plugin cuFFT when one has already been registered\n",
      "WARNING: All log messages before absl::InitializeLog() is called are written to STDERR\n",
      "E0000 00:00:1732751843.268427     379 cuda_dnn.cc:8310] Unable to register cuDNN factory: Attempting to register factory for plugin cuDNN when one has already been registered\n",
      "E0000 00:00:1732751843.280894     379 cuda_blas.cc:1418] Unable to register cuBLAS factory: Attempting to register factory for plugin cuBLAS when one has already been registered\n",
      "2024-11-27 15:57:23.320147: I tensorflow/core/platform/cpu_feature_guard.cc:210] This TensorFlow binary is optimized to use available CPU instructions in performance-critical operations.\n",
      "To enable the following instructions: AVX2 AVX512F AVX512_VNNI FMA, in other operations, rebuild TensorFlow with the appropriate compiler flags.\n"
     ]
    }
   ],
   "source": [
    "import numpy as np # linear algebra\n",
    "import pandas as pd # data processing, CSV file I/O (e.g. pd.read_csv)\n",
    "import matplotlib.pyplot as plt\n",
    "import tensorflow as tf\n",
    "from tensorflow import keras\n",
    "import seaborn as sns\n",
    "import glob\n",
    "import xml.etree.ElementTree as ET\n",
    "from PIL import Image\n",
    "import os\n",
    "import shutil"
   ]
  },
  {
   "cell_type": "markdown",
   "metadata": {
    "id": "eU9ykEdueYv3"
   },
   "source": [
    "<strong>Import Ultralytics<strong>\n"
   ]
  },
  {
   "cell_type": "code",
   "execution_count": 1,
   "metadata": {
    "colab": {
     "base_uri": "https://localhost:8080/"
    },
    "id": "VFjZ0ujPrnes",
    "outputId": "22ca828a-ae5f-4861-abb4-195a65cf4600"
   },
   "outputs": [
    {
     "name": "stdout",
     "output_type": "stream",
     "text": [
      "Ultralytics 8.3.38 🚀 Python-3.12.7 torch-2.5.1+cu124 CPU (11th Gen Intel Core(TM) i5-1135G7 2.40GHz)\n",
      "Setup complete ✅ (8 CPUs, 19.3 GB RAM, 0.0/9.7 GB disk)\n"
     ]
    }
   ],
   "source": [
    "import ultralytics\n",
    "ultralytics.checks()\n",
    "\n",
    "from ultralytics import YOLO\n",
    "\n",
    "model = YOLO('best.pt')"
   ]
  },
  {
   "cell_type": "markdown",
   "metadata": {
    "id": "f1DiEK1fcziv"
   },
   "source": [
    "<h1>Process Feed</h1>\n",
    "Running the testing to see if webcam works"
   ]
  },
  {
   "cell_type": "code",
   "execution_count": 2,
   "metadata": {},
   "outputs": [
    {
     "name": "stdout",
     "output_type": "stream",
     "text": [
      "Webcam opened successfully!\n"
     ]
    }
   ],
   "source": [
    "import cv2\n",
    "import time\n",
    "\n",
    "cap = cv2.VideoCapture(0)  # Try different indices like 0, 1, 2\n",
    "if not cap.isOpened():\n",
    "    print(\"Error: Could not open webcam.\")\n",
    "else:\n",
    "    print(\"Webcam opened successfully!\")\n",
    "    \n",
    "cap.release()\n"
   ]
  },
  {
   "cell_type": "markdown",
   "metadata": {},
   "source": [
    "<h2>Main Code</h2>\n",
    "Below is the code that contains the main process.\n",
    "\n",
    "Right now it captures the webcam, and then annotates the frames with the classes.\n",
    "\n",
    "    [100, 50, 200, 150, 0.85, 3],  # Detected object 1\n",
    "\n",
    "    [100, 50, 200, 150] → Bounding box: top-left (x_min, y_min) and bottom-right (x_max, y_max).\n",
    "    0.85 → Confidence score.\n",
    "    3 → Class ID (e.g., \"car\" if class 3 maps to \"car\").\n",
    "\n",
    "    From results below we could get the class and see if it would trigger an input"
   ]
  },
  {
   "cell_type": "code",
   "execution_count": null,
   "metadata": {
    "colab": {
     "base_uri": "https://localhost:8080/"
    },
    "id": "V3T_Ahl2avFK",
    "outputId": "ded027a7-50c3-4873-ed1d-579411be1d2f"
   },
   "outputs": [],
   "source": [
    "def process_video_feed(model):\n",
    "    cap = cv2.VideoCapture(0, cv2.CAP_V4L2)  # Adjust backend for your OS\n",
    "    cap.set(cv2.CAP_PROP_FRAME_WIDTH, 8)\n",
    "    cap.set(cv2.CAP_PROP_FRAME_HEIGHT, 3.5)\n",
    "    cap.set(cv2.CAP_PROP_FPS, 10)  # Adjust FPS\n",
    "    \n",
    "    if not cap.isOpened():\n",
    "        print(\"Error: Could not open webcam.\")\n",
    "        return\n",
    "\n",
    "    while True:\n",
    "        start_time = time.time()\n",
    "        ret, frame = cap.read()  # Capture frame\n",
    "        if not ret:\n",
    "            print(\"Error: Failed to grab frame.\")\n",
    "            break\n",
    "\n",
    "        frame = cv2.resize(frame, (640, 480))\n",
    "\n",
    "        results = model.predict(frame, conf=0.75)  # YOLO inference\n",
    "        rendered_frame = results[0].plot()\n",
    "        cv2.imshow(\"Webcam Feed\", rendered_frame)\n",
    "\n",
    "        print(f\"Frame processing time: {time.time() - start_time:.3f} seconds\")\n",
    "        if cv2.waitKey(1) & 0xFF == ord('q'):\n",
    "            break\n",
    "\n",
    "    cap.release()\n",
    "    cv2.destroyAllWindows()\n"
   ]
  },
  {
   "cell_type": "markdown",
   "metadata": {},
   "source": [
    "<h1>When you're ready to run</h1>\n",
    "Just run the code below!"
   ]
  },
  {
   "cell_type": "code",
   "execution_count": null,
   "metadata": {},
   "outputs": [],
   "source": [
    "# Start processing the webcam feed\n",
    "process_video_feed(model)"
   ]
  },
  {
   "cell_type": "markdown",
   "metadata": {
    "id": "1iC063DwgCdY"
   },
   "source": [
    "<h3>Release Cam</h3>\n",
    "In case you need to release the cam"
   ]
  },
  {
   "cell_type": "code",
   "execution_count": 31,
   "metadata": {
    "id": "cHrBE8fdf_iS"
   },
   "outputs": [],
   "source": [
    "cap.release()\n",
    "cv2.destroyAllWindows()"
   ]
  }
 ],
 "metadata": {
  "accelerator": "GPU",
  "colab": {
   "collapsed_sections": [
    "3BCBLWEHPxeW"
   ],
   "gpuType": "T4",
   "include_colab_link": true,
   "provenance": [],
   "toc_visible": true
  },
  "kernelspec": {
   "display_name": "Python 3",
   "name": "python3"
  },
  "language_info": {
   "codemirror_mode": {
    "name": "ipython",
    "version": 3
   },
   "file_extension": ".py",
   "mimetype": "text/x-python",
   "name": "python",
   "nbconvert_exporter": "python",
   "pygments_lexer": "ipython3",
   "version": "3.12.7"
  }
 },
 "nbformat": 4,
 "nbformat_minor": 0
}
