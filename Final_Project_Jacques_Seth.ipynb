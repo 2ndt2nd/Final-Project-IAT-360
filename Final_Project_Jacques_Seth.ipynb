{
 "cells": [
  {
   "cell_type": "markdown",
   "metadata": {
    "colab_type": "text",
    "id": "view-in-github"
   },
   "source": [
    "<a href=\"https://colab.research.google.com/github/2ndt2nd/Final-Project-IAT-360/blob/main/Final_Project_Jacques_Seth.ipynb\" target=\"_parent\"><img src=\"https://colab.research.google.com/assets/colab-badge.svg\" alt=\"Open In Colab\"/></a>"
   ]
  },
  {
   "cell_type": "markdown",
   "metadata": {
    "id": "URt4Q-TNmNDj"
   },
   "source": [
    "<center><h1> <b> IAT 360 Final Project <b> </h1></center>"
   ]
  },
  {
   "cell_type": "markdown",
   "metadata": {
    "id": "ZIi4bjh7mIJd"
   },
   "source": [
    "This is the final project for IAT 360\n",
    "Group Members:\n",
    "    - Seth van der Zweep (301461888)\n",
    "    - Jacques Davidson Widodo (301443163)\n"
   ]
  },
  {
   "cell_type": "markdown",
   "metadata": {
    "id": "rr-j-jCmaHId"
   },
   "source": [
    "<h2>Importing required Libraries<h2>"
   ]
  },
  {
   "cell_type": "markdown",
   "metadata": {
    "id": "eU9ykEdueYv3"
   },
   "source": [
    "<strong>Import Ultralytics</strong>\n",
    "\n",
    "Run this one\n"
   ]
  },
  {
   "cell_type": "code",
   "execution_count": 1,
   "metadata": {
    "colab": {
     "base_uri": "https://localhost:8080/"
    },
    "id": "VFjZ0ujPrnes",
    "outputId": "22ca828a-ae5f-4861-abb4-195a65cf4600"
   },
   "outputs": [
    {
     "name": "stdout",
     "output_type": "stream",
     "text": [
      "Ultralytics 8.3.38 🚀 Python-3.12.7 torch-2.5.1+cu124 CPU (11th Gen Intel Core(TM) i5-1135G7 2.40GHz)\n",
      "Setup complete ✅ (8 CPUs, 19.3 GB RAM, 0.0/9.7 GB disk)\n",
      "Webcam opened successfully!\n"
     ]
    }
   ],
   "source": [
    "import ultralytics\n",
    "ultralytics.checks()\n",
    "\n",
    "from ultralytics import YOLO\n",
    "\n",
    "model = YOLO('best.pt')\n",
    "\n",
    "#CV2 as well\n",
    "import cv2\n",
    "cap = cv2.VideoCapture(0)  # Try different indices like 0, 1, 2\n",
    "if not cap.isOpened():\n",
    "    print(\"Error: Could not open webcam.\")\n",
    "else:\n",
    "    print(\"Webcam opened successfully!\")\n",
    "    \n",
    "cap.release()"
   ]
  },
  {
   "cell_type": "markdown",
   "metadata": {},
   "source": [
    "<strong>Enum States</strong>\n",
    "For the states\n",
    "\n",
    "Run this one\n"
   ]
  },
  {
   "cell_type": "code",
   "execution_count": null,
   "metadata": {},
   "outputs": [],
   "source": [
    "from enum import Enum\n",
    "\n",
    "class State(Enum):\n",
    "    START = 0\n",
    "    SELECTING_ROW = 1\n",
    "    SELECTING_COLUMN = 2\n",
    "    CONFIRMING = 3\n",
    "    DISPENSING = 4\n",
    "\n",
    "reorder = [3,7,2,5,6,1,4,8]"
   ]
  },
  {
   "cell_type": "markdown",
   "metadata": {},
   "source": [
    "<strong>For Linux</strong>\n",
    "\n",
    "Testing video output for Linux (different back end)"
   ]
  },
  {
   "cell_type": "code",
   "execution_count": 3,
   "metadata": {
    "colab": {
     "base_uri": "https://localhost:8080/"
    },
    "id": "V3T_Ahl2avFK",
    "outputId": "ded027a7-50c3-4873-ed1d-579411be1d2f"
   },
   "outputs": [
    {
     "data": {
      "text/plain": [
       "'def process_video_feed(model):\\n    cap = cv2.VideoCapture(0, cv2.CAP_V4L2)  # Adjust backend for your OS\\n    cap.set(cv2.CAP_PROP_FRAME_WIDTH, 8)\\n    cap.set(cv2.CAP_PROP_FRAME_HEIGHT, 3.5)\\n    cap.set(cv2.CAP_PROP_FPS, 10)  # Adjust FPS\\n    \\n    if not cap.isOpened():\\n        print(\"Error: Could not open webcam.\")\\n        return\\n\\n    while True:\\n        ret, frame = cap.read()  # Capture frame\\n        if not ret:\\n            print(\"Error: Failed to grab frame.\")\\n            break\\n\\n        frame = cv2.resize(frame, (640, 480))\\n        results = model.predict(frame, conf=0.75)  # YOLO inference\\n        rendered_frame = results[0].plot()\\n        cv2.imshow(\"Webcam Feed\", rendered_frame)\\n\\n        if cv2.waitKey(1) & 0xFF == ord(\\'q\\'):\\n            break\\n    \\n    cap.release()\\n    cv2.destroyAllWindows()'"
      ]
     },
     "execution_count": 3,
     "metadata": {},
     "output_type": "execute_result"
    }
   ],
   "source": [
    "'''def process_video_feed(model):\n",
    "    cap = cv2.VideoCapture(0, cv2.CAP_V4L2)  # Adjust backend for your OS\n",
    "    cap.set(cv2.CAP_PROP_FRAME_WIDTH, 8)\n",
    "    cap.set(cv2.CAP_PROP_FRAME_HEIGHT, 3.5)\n",
    "    cap.set(cv2.CAP_PROP_FPS, 10)  # Adjust FPS\n",
    "    \n",
    "    if not cap.isOpened():\n",
    "        print(\"Error: Could not open webcam.\")\n",
    "        return\n",
    "\n",
    "    while True:\n",
    "        ret, frame = cap.read()  # Capture frame\n",
    "        if not ret:\n",
    "            print(\"Error: Failed to grab frame.\")\n",
    "            break\n",
    "\n",
    "        frame = cv2.resize(frame, (640, 480))\n",
    "        results = model.predict(frame, conf=0.75)  # YOLO inference\n",
    "        rendered_frame = results[0].plot()\n",
    "        cv2.imshow(\"Webcam Feed\", rendered_frame)\n",
    "\n",
    "        if cv2.waitKey(1) & 0xFF == ord('q'):\n",
    "            break\n",
    "    \n",
    "    cap.release()\n",
    "    cv2.destroyAllWindows()'''"
   ]
  },
  {
   "cell_type": "markdown",
   "metadata": {},
   "source": [
    "<strong>For Windows</strong>\n",
    "\n",
    "Testing video output for windows (different back end)"
   ]
  },
  {
   "cell_type": "code",
   "execution_count": 4,
   "metadata": {},
   "outputs": [
    {
     "data": {
      "text/plain": [
       "'def process_video_feed(model):\\n    cap = cv2.VideoCapture(0, cv2.CAP_DSHOW)  # Adjust backend for your OS\\n    cap.set(cv2.CAP_PROP_FRAME_WIDTH, 8)\\n    cap.set(cv2.CAP_PROP_FRAME_HEIGHT, 3.5)\\n    cap.set(cv2.CAP_PROP_FPS, 10)  # Adjust FPS\\n    \\n    if not cap.isOpened():\\n        print(\"Error: Could not open webcam.\")\\n        return\\n\\n    while True:\\n        ret, frame = cap.read()  # Capture frame\\n        if not ret:\\n            print(\"Error: Failed to grab frame.\")\\n            break\\n\\n        frame = cv2.resize(frame, (640, 480))\\n\\n        results = model.predict(frame, conf=0.75)  # YOLO inference\\n        rendered_frame = results[0].plot()\\n        cv2.imshow(\"Webcam Feed\", rendered_frame)\\n\\n        class_ids = [int(box.cls[0].item()) for box in results[0].boxes]\\n        print(class_ids)\\n\\n        if cv2.waitKey(1) & 0xFF == ord(\\'q\\'):\\n            break\\n    \\n    \\n    \\n    cap.release()\\n    cv2.destroyAllWindows()'"
      ]
     },
     "execution_count": 4,
     "metadata": {},
     "output_type": "execute_result"
    }
   ],
   "source": [
    "'''def process_video_feed(model):\n",
    "    cap = cv2.VideoCapture(0, cv2.CAP_DSHOW)  # Adjust backend for your OS\n",
    "    cap.set(cv2.CAP_PROP_FRAME_WIDTH, 8)\n",
    "    cap.set(cv2.CAP_PROP_FRAME_HEIGHT, 3.5)\n",
    "    cap.set(cv2.CAP_PROP_FPS, 10)  # Adjust FPS\n",
    "    \n",
    "    if not cap.isOpened():\n",
    "        print(\"Error: Could not open webcam.\")\n",
    "        return\n",
    "\n",
    "    while True:\n",
    "        ret, frame = cap.read()  # Capture frame\n",
    "        if not ret:\n",
    "            print(\"Error: Failed to grab frame.\")\n",
    "            break\n",
    "\n",
    "        frame = cv2.resize(frame, (640, 480))\n",
    "\n",
    "        results = model.predict(frame, conf=0.75)  # YOLO inference\n",
    "        rendered_frame = results[0].plot()\n",
    "        cv2.imshow(\"Webcam Feed\", rendered_frame)\n",
    "\n",
    "        class_ids = [int(box.cls[0].item()) for box in results[0].boxes]\n",
    "        print(class_ids)\n",
    "\n",
    "        if cv2.waitKey(1) & 0xFF == ord('q'):\n",
    "            break\n",
    "    \n",
    "    \n",
    "    \n",
    "    cap.release()\n",
    "    cv2.destroyAllWindows()'''"
   ]
  },
  {
   "cell_type": "markdown",
   "metadata": {},
   "source": [
    "<h2>New In Progress Video Function</h2>"
   ]
  },
  {
   "cell_type": "code",
   "execution_count": 5,
   "metadata": {},
   "outputs": [],
   "source": [
    "def new_process_video_feed(model, cap):\n",
    "        ret, frame = cap.read()  # Capture frame\n",
    "        if not ret:\n",
    "            print(\"'''Error: Failed to grab frame.\")\n",
    "            return 0\n",
    "\n",
    "        #frame = cv2.resize(frame, (640, 480))\n",
    "        results =   model.predict(frame, conf=0.7)  # YOLO inference\n",
    "        rendered_frame = results[0].plot()\n",
    "        cv2.imshow(\"Webcam Feed\", rendered_frame)\n",
    "\n",
    "        class_ids = [int(box.cls[0].item()) for box in results[0].boxes]\n",
    "\n",
    "        if(not class_ids): return class_ids\n",
    "        return reorder[class_ids[0]]"
   ]
  },
  {
   "cell_type": "markdown",
   "metadata": {},
   "source": [
    "<h2>New In Progress Main</h2>"
   ]
  },
  {
   "cell_type": "code",
   "execution_count": null,
   "metadata": {},
   "outputs": [],
   "source": [
    "def main(model):\n",
    "    hold = 0\n",
    "    state = State.START\n",
    "    #cap = cv2.VideoCapture(0, cv2.CAP_DSHOW)  # For Windows\n",
    "    cap = cv2.VideoCapture(0, cv2.CAP_V4L2)  # For Linux\n",
    "    cap.set(cv2.CAP_PROP_FRAME_WIDTH, 16)\n",
    "    cap.set(cv2.CAP_PROP_FRAME_HEIGHT, 7)\n",
    "    cap.set(cv2.CAP_PROP_FPS, 30)  # Adjust FPS\n",
    "    \n",
    "    if not cap.isOpened():\n",
    "        print(\"Error: Could not open webcam.\")\n",
    "        return\n",
    "    #Main Loop\n",
    "    while True:\n",
    "        gesture = new_process_video_feed(model, cap)\n",
    "        print(state)\n",
    "        \n",
    "        #When no gestures are detected\n",
    "        if(not gesture):\n",
    "            hold = 0\n",
    "        else:\n",
    "            #If condition to prevent accidentally proceeding\n",
    "            if(hold<15): hold+=1\n",
    "            print(gesture)\n",
    "        \n",
    "        #Until user shows no gesture by making fist, cannot make another command.\n",
    "        if(hold==10):\n",
    "            hold = 100\n",
    "            \n",
    "            #If these are gestures for 1-4\n",
    "            if(gesture<5):\n",
    "                if(state == State.START):\n",
    "                    state = State(state.value+1)\n",
    "\n",
    "                elif(state == State.SELECTING_ROW):\n",
    "                    state = State(state.value+1)\n",
    "\n",
    "                elif(state == State.SELECTING_COLUMN):\n",
    "                    state = State(state.value+1)\n",
    "                    \n",
    "                elif(state == State.DISPENSING):\n",
    "                    state = State.START\n",
    "\n",
    "            else:\n",
    "                #If state is greater than 0\n",
    "                #Change later so you can't cancel when dispensing and further\n",
    "                if(state.value>0):\n",
    "                    if(gesture==7):\n",
    "                        state = State.START\n",
    "                    elif (gesture==6):\n",
    "                        state = State(state.value-1)\n",
    "\n",
    "        if cv2.waitKey(1) & 0xFF == ord('q'):\n",
    "            break\n",
    "    \n",
    "    cap.release()\n",
    "    cv2.destroyAllWindows()"
   ]
  },
  {
   "cell_type": "markdown",
   "metadata": {},
   "source": [
    "<h2>Old Main</h2>\n",
    "Run this one"
   ]
  },
  {
   "cell_type": "code",
   "execution_count": null,
   "metadata": {},
   "outputs": [],
   "source": [
    "main(model)"
   ]
  },
  {
   "cell_type": "markdown",
   "metadata": {},
   "source": [
    "<h2>Testing Video Only</h2>"
   ]
  },
  {
   "cell_type": "code",
   "execution_count": 8,
   "metadata": {},
   "outputs": [],
   "source": [
    "# Start processing the webcam feed\n",
    "#process_video_feed(model)\n",
    "#main(model)\n"
   ]
  }
 ],
 "metadata": {
  "accelerator": "GPU",
  "colab": {
   "collapsed_sections": [
    "3BCBLWEHPxeW"
   ],
   "gpuType": "T4",
   "include_colab_link": true,
   "provenance": [],
   "toc_visible": true
  },
  "kernelspec": {
   "display_name": "Python 3",
   "name": "python3"
  },
  "language_info": {
   "codemirror_mode": {
    "name": "ipython",
    "version": 3
   },
   "file_extension": ".py",
   "mimetype": "text/x-python",
   "name": "python",
   "nbconvert_exporter": "python",
   "pygments_lexer": "ipython3",
   "version": "3.12.7"
  }
 },
 "nbformat": 4,
 "nbformat_minor": 0
}
