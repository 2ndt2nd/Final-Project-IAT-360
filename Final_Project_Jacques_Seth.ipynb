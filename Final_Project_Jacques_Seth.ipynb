{
 "cells": [
  {
   "cell_type": "markdown",
   "metadata": {
    "colab_type": "text",
    "id": "view-in-github"
   },
   "source": [
    "<a href=\"https://colab.research.google.com/github/2ndt2nd/Final-Project-IAT-360/blob/main/Final_Project_Jacques_Seth.ipynb\" target=\"_parent\"><img src=\"https://colab.research.google.com/assets/colab-badge.svg\" alt=\"Open In Colab\"/></a>"
   ]
  },
  {
   "cell_type": "markdown",
   "metadata": {
    "id": "URt4Q-TNmNDj"
   },
   "source": [
    "<center><h1> <b> IAT 360 Final Project <b> </h1></center>"
   ]
  },
  {
   "cell_type": "markdown",
   "metadata": {
    "id": "ZIi4bjh7mIJd"
   },
   "source": [
    "This is the final project for IAT 360\n",
    "Group Members:\n",
    "    - Seth van der Zweep (301461888)\n",
    "    - Jacques Davidson Widodo (301443163)\n"
   ]
  },
  {
   "cell_type": "markdown",
   "metadata": {
    "id": "rr-j-jCmaHId"
   },
   "source": [
    "<h2>Importing required Libraries<h2>"
   ]
  },
  {
   "cell_type": "markdown",
   "metadata": {
    "id": "eU9ykEdueYv3"
   },
   "source": [
    "<strong>Import Ultralytics</strong>\n",
    "\n",
    "Run this one\n"
   ]
  },
  {
   "cell_type": "code",
   "execution_count": 9,
   "metadata": {
    "colab": {
     "base_uri": "https://localhost:8080/"
    },
    "id": "VFjZ0ujPrnes",
    "outputId": "22ca828a-ae5f-4861-abb4-195a65cf4600"
   },
   "outputs": [
    {
     "name": "stdout",
     "output_type": "stream",
     "text": [
      "Ultralytics 8.3.38 🚀 Python-3.12.7 torch-2.5.1+cu124 CPU (11th Gen Intel Core(TM) i5-1135G7 2.40GHz)\n",
      "Setup complete ✅ (8 CPUs, 19.3 GB RAM, 0.0/9.7 GB disk)\n",
      "Webcam opened successfully!\n"
     ]
    }
   ],
   "source": [
    "import ultralytics\n",
    "ultralytics.checks()\n",
    "\n",
    "from ultralytics import YOLO\n",
    "\n",
    "model = YOLO('best.pt')\n",
    "\n",
    "#CV2 as well\n",
    "import cv2\n",
    "cap = cv2.VideoCapture(0)  # Try different indices like 0, 1, 2\n",
    "if not cap.isOpened():\n",
    "    print(\"Error: Could not open webcam.\")\n",
    "else:\n",
    "    print(\"Webcam opened successfully!\")\n",
    "    \n",
    "cap.release()"
   ]
  },
  {
   "cell_type": "markdown",
   "metadata": {},
   "source": [
    "<strong>Enum States</strong>\n"
   ]
  },
  {
   "cell_type": "code",
   "execution_count": 10,
   "metadata": {},
   "outputs": [],
   "source": [
    "from enum import Enum\n",
    "\n",
    "class State(Enum):\n",
    "    START = 0\n",
    "    SELECTING_ROW = 1\n",
    "    SELECTING_COLUMN = 2\n",
    "    CONFIRMING = 3\n",
    "    DISPENSING = 4\n",
    "\n",
    "reorder = [3,7,2,5,6,1,4,8]"
   ]
  },
  {
   "cell_type": "markdown",
   "metadata": {},
   "source": [
    "<h2>Process Gestures</h2>"
   ]
  },
  {
   "cell_type": "code",
   "execution_count": 11,
   "metadata": {},
   "outputs": [],
   "source": [
    "def process_gestures(cap):\n",
    "        ret, frame = cap.read()  # Capture frame\n",
    "        if not ret:\n",
    "            print(\"'''Error: Failed to grab frame.\")\n",
    "            return 0\n",
    "\n",
    "        frame = cv2.resize(frame, (320, 240))\n",
    "        results = model.predict(frame, conf=0.7)  # YOLO inference\n",
    "        rendered_frame = results[0].plot()\n",
    "        cv2.imshow(\"Webcam Feed\", rendered_frame)\n",
    "        cv2.moveWindow(\"Webcam Feed\", 1250, 670) \n",
    "\n",
    "        class_ids = [int(box.cls[0].item()) for box in results[0].boxes]\n",
    "\n",
    "        if(not class_ids): return class_ids\n",
    "        return reorder[class_ids[0]]"
   ]
  },
  {
   "cell_type": "markdown",
   "metadata": {},
   "source": [
    "<h2>Main</h2>"
   ]
  },
  {
   "cell_type": "code",
   "execution_count": null,
   "metadata": {},
   "outputs": [],
   "source": [
    "def main():\n",
    "    hold = 0\n",
    "    dispensing_timer = 0\n",
    "    state = State.START\n",
    "\n",
    "    row = 0\n",
    "    column = 0\n",
    "\n",
    "    #Images section\n",
    "    #Two Dimensional Array after finishing column selection\n",
    "    starting_image = 'images/select_start.png'\n",
    "    selection_image = 'images/select_row.png' #Used for state SELECTING_ROW\n",
    "    rows_option = ['images/row_a.png','images/row_b.png','images/row_c.png','images/row_d.png'] #Used for state SELECTING_COLUMN\n",
    "    \n",
    "    #Used for state CONFIRMING\n",
    "    row_col_option = [\n",
    "        #Row A\n",
    "        ['images/a1.png','images/a2.png','images/a3.png','images/a4.png'],\n",
    "        #Row B\n",
    "        ['images/b1.png','images/b2.png','images/b3.png','images/b4.png'],\n",
    "        #Row C\n",
    "        ['images/c1.png','images/c2.png','images/c3.png','images/c4.png'],\n",
    "        #Row D\n",
    "        ['images/d1.png','images/d2.png','images/d3.png','images/d4.png']\n",
    "        ]\n",
    "    \n",
    "    #Used for state DISPENSING\n",
    "    row_col_out = [\n",
    "        #Row A\n",
    "        ['images/disp_a1.png','images/disp_a2.png','images/disp_a3.png','images/disp_a4.png'],\n",
    "        #Row B\n",
    "        ['images/disp_b1.png','images/disp_b2.png','images/disp_b3.png','images/disp_b4.png'],\n",
    "        #Row C\n",
    "        ['images/disp_c1.png','images/disp_c2.png','images/disp_c3.png','images/disp_c4.png'],\n",
    "        #Row D\n",
    "        ['images/disp_d1.png','images/disp_d2.png','images/disp_d3.png','images/disp_d4.png']\n",
    "        ]\n",
    "    current_image = cv2.imread(starting_image)\n",
    "    current_image = cv2.resize(current_image, (793, 848))\n",
    "    cv2.imshow('Dispenser', current_image)\n",
    "    \n",
    "    #Video handling\n",
    "    #cap = cv2.VideoCapture(0, cv2.CAP_DSHOW)  # For Windows\n",
    "    cap = cv2.VideoCapture(0, cv2.CAP_V4L2)  # For Linux\n",
    "    cap.set(cv2.CAP_PROP_FRAME_WIDTH, 320)\n",
    "    cap.set(cv2.CAP_PROP_FRAME_HEIGHT, 240)\n",
    "    cap.set(cv2.CAP_PROP_FPS, 30)  # Adjust FPS\n",
    "    \n",
    "    if not cap.isOpened():\n",
    "        print(\"Error: Could not open webcam.\")\n",
    "        return\n",
    "    #Main Loop\n",
    "    while True:\n",
    "        gesture = process_gestures(cap)\n",
    "        print(state)\n",
    "        \n",
    "        #For dispensing stage to add a delay\n",
    "        if(dispensing_timer > 0):\n",
    "            dispensing_timer -= 1\n",
    "            if(dispensing_timer == 0):\n",
    "                state = State.START\n",
    "                current_image = cv2.imread(starting_image)\n",
    "                current_image = cv2.resize(current_image, (793, 848))\n",
    "                cv2.imshow('Dispenser', current_image)\n",
    "\n",
    "        #When no gestures are detected\n",
    "        if(not gesture):\n",
    "            hold = 0\n",
    "        else:\n",
    "            #If condition to prevent accidentally proceeding\n",
    "            if(hold<15): hold += 1\n",
    "            print(gesture)\n",
    "        \n",
    "        #Until user shows no gesture, cannot make another command.\n",
    "        if(hold == 10):\n",
    "            hold = 100\n",
    "\n",
    "            #For start and confirmation\n",
    "            if(state == State.START):\n",
    "                if(gesture == 8):\n",
    "                    state = State(state.value+1)\n",
    "                    current_image = cv2.imread(selection_image)\n",
    "            \n",
    "            #between selecting rows and before dispensing\n",
    "            elif(state.value>0 and state.value<4):\n",
    "                #For numerical gestures\n",
    "                if(gesture<5 and state.value<3):\n",
    "                    if(state == State.SELECTING_ROW):\n",
    "                        row = gesture\n",
    "                        current_image = cv2.imread(rows_option[row-1])\n",
    "\n",
    "\n",
    "                    elif(state == State.SELECTING_COLUMN):\n",
    "                        column = gesture\n",
    "                        current_image = cv2.imread(row_col_option[row-1][column-1])\n",
    "                    \n",
    "                    state = State(state.value+1)\n",
    "\n",
    "                #Gesture thumb_index\n",
    "                elif(gesture == 7):\n",
    "                    column = 0\n",
    "                    row = 0\n",
    "                    state = State.START\n",
    "                    current_image = cv2.imread(starting_image)\n",
    "                \n",
    "                #Gesture dislike\n",
    "                elif (gesture == 6):\n",
    "                        if(state == State.SELECTING_ROW):\n",
    "                            row = 0\n",
    "                            current_image = cv2.imread(starting_image)\n",
    "                            \n",
    "\n",
    "                        elif(state == State.SELECTING_COLUMN):\n",
    "                            column = 0\n",
    "                            current_image = cv2.imread(selection_image)\n",
    "                        \n",
    "                        elif(state == State.CONFIRMING):\n",
    "                            column = 0\n",
    "                            current_image = cv2.imread(rows_option[row-1])\n",
    "                        \n",
    "                        state = State(state.value-1)\n",
    "                \n",
    "                #Final confirmation gesture into dispensing\n",
    "                elif(gesture == 8 and state == State.CONFIRMING):\n",
    "                    state = State(state.value+1)\n",
    "                    current_image = cv2.imread(row_col_out[row-1][column-1])\n",
    "                    dispensing_timer = 15\n",
    "\n",
    "        current_image = cv2.resize(current_image, (793, 848))\n",
    "        cv2.imshow('Dispenser', current_image)\n",
    "        \n",
    "\n",
    "        if cv2.waitKey(1) & 0xFF == ord('q'):\n",
    "            break\n",
    "    \n",
    "    cap.release()\n",
    "    cv2.destroyAllWindows()"
   ]
  },
  {
   "cell_type": "markdown",
   "metadata": {},
   "source": [
    "<h2>Run</h2>\n",
    "\n",
    "State is made visible for ease of checking\n",
    "\n",
    "Gestures are also made visible"
   ]
  },
  {
   "cell_type": "code",
   "execution_count": 13,
   "metadata": {},
   "outputs": [
    {
     "name": "stdout",
     "output_type": "stream",
     "text": [
      "\n",
      "0: 480x640 (no detections), 162.0ms\n",
      "Speed: 1.7ms preprocess, 162.0ms inference, 0.5ms postprocess per image at shape (1, 3, 480, 640)\n",
      "State.START\n",
      "\n",
      "0: 480x640 (no detections), 145.8ms\n",
      "Speed: 2.1ms preprocess, 145.8ms inference, 0.4ms postprocess per image at shape (1, 3, 480, 640)\n",
      "State.START\n",
      "\n",
      "0: 480x640 (no detections), 131.5ms\n",
      "Speed: 3.8ms preprocess, 131.5ms inference, 0.5ms postprocess per image at shape (1, 3, 480, 640)\n",
      "State.START\n",
      "\n",
      "0: 480x640 (no detections), 133.9ms\n",
      "Speed: 1.6ms preprocess, 133.9ms inference, 0.4ms postprocess per image at shape (1, 3, 480, 640)\n",
      "State.START\n",
      "\n",
      "0: 480x640 (no detections), 136.3ms\n",
      "Speed: 2.0ms preprocess, 136.3ms inference, 0.4ms postprocess per image at shape (1, 3, 480, 640)\n",
      "State.START\n",
      "\n",
      "0: 480x640 (no detections), 136.1ms\n",
      "Speed: 3.2ms preprocess, 136.1ms inference, 0.5ms postprocess per image at shape (1, 3, 480, 640)\n",
      "State.START\n",
      "\n",
      "0: 480x640 (no detections), 154.3ms\n",
      "Speed: 3.4ms preprocess, 154.3ms inference, 0.6ms postprocess per image at shape (1, 3, 480, 640)\n",
      "State.START\n",
      "\n",
      "0: 480x640 (no detections), 141.4ms\n",
      "Speed: 1.8ms preprocess, 141.4ms inference, 0.5ms postprocess per image at shape (1, 3, 480, 640)\n",
      "State.START\n",
      "\n",
      "0: 480x640 (no detections), 140.1ms\n",
      "Speed: 2.1ms preprocess, 140.1ms inference, 0.5ms postprocess per image at shape (1, 3, 480, 640)\n",
      "State.START\n",
      "\n",
      "0: 480x640 (no detections), 132.0ms\n",
      "Speed: 1.6ms preprocess, 132.0ms inference, 0.5ms postprocess per image at shape (1, 3, 480, 640)\n",
      "State.START\n",
      "\n",
      "0: 480x640 (no detections), 140.9ms\n",
      "Speed: 1.9ms preprocess, 140.9ms inference, 0.5ms postprocess per image at shape (1, 3, 480, 640)\n",
      "State.START\n",
      "\n",
      "0: 480x640 (no detections), 132.3ms\n",
      "Speed: 2.2ms preprocess, 132.3ms inference, 0.5ms postprocess per image at shape (1, 3, 480, 640)\n",
      "State.START\n",
      "\n",
      "0: 480x640 (no detections), 148.8ms\n",
      "Speed: 1.6ms preprocess, 148.8ms inference, 0.6ms postprocess per image at shape (1, 3, 480, 640)\n",
      "State.START\n",
      "\n",
      "0: 480x640 (no detections), 136.7ms\n",
      "Speed: 2.3ms preprocess, 136.7ms inference, 0.5ms postprocess per image at shape (1, 3, 480, 640)\n",
      "State.START\n",
      "\n",
      "0: 480x640 (no detections), 130.8ms\n",
      "Speed: 2.3ms preprocess, 130.8ms inference, 0.5ms postprocess per image at shape (1, 3, 480, 640)\n",
      "State.START\n",
      "\n",
      "0: 480x640 (no detections), 136.1ms\n",
      "Speed: 1.4ms preprocess, 136.1ms inference, 0.5ms postprocess per image at shape (1, 3, 480, 640)\n",
      "State.START\n",
      "\n",
      "0: 480x640 (no detections), 133.6ms\n",
      "Speed: 2.0ms preprocess, 133.6ms inference, 0.6ms postprocess per image at shape (1, 3, 480, 640)\n",
      "State.START\n",
      "\n",
      "0: 480x640 1 ok, 131.8ms\n",
      "Speed: 1.5ms preprocess, 131.8ms inference, 1.1ms postprocess per image at shape (1, 3, 480, 640)\n",
      "State.START\n",
      "8\n",
      "\n",
      "0: 480x640 1 ok, 138.5ms\n",
      "Speed: 1.5ms preprocess, 138.5ms inference, 1.0ms postprocess per image at shape (1, 3, 480, 640)\n",
      "State.START\n",
      "8\n",
      "\n",
      "0: 480x640 1 ok, 157.1ms\n",
      "Speed: 1.7ms preprocess, 157.1ms inference, 0.8ms postprocess per image at shape (1, 3, 480, 640)\n",
      "State.START\n",
      "8\n",
      "\n",
      "0: 480x640 1 ok, 137.3ms\n",
      "Speed: 1.6ms preprocess, 137.3ms inference, 0.8ms postprocess per image at shape (1, 3, 480, 640)\n",
      "State.START\n",
      "8\n",
      "\n",
      "0: 480x640 1 ok, 132.4ms\n",
      "Speed: 1.6ms preprocess, 132.4ms inference, 0.9ms postprocess per image at shape (1, 3, 480, 640)\n",
      "State.START\n",
      "8\n",
      "\n",
      "0: 480x640 1 ok, 133.5ms\n",
      "Speed: 1.8ms preprocess, 133.5ms inference, 0.8ms postprocess per image at shape (1, 3, 480, 640)\n",
      "State.START\n",
      "8\n",
      "\n",
      "0: 480x640 1 ok, 134.0ms\n",
      "Speed: 1.9ms preprocess, 134.0ms inference, 0.7ms postprocess per image at shape (1, 3, 480, 640)\n",
      "State.START\n",
      "8\n"
     ]
    }
   ],
   "source": [
    "main()"
   ]
  },
  {
   "cell_type": "markdown",
   "metadata": {},
   "source": [
    "<strong>For Linux</strong>\n",
    "\n",
    "Testing video output for Linux (different back end)"
   ]
  },
  {
   "cell_type": "markdown",
   "metadata": {},
   "source": [
    "<h2>Testing Video Only</h2>"
   ]
  },
  {
   "cell_type": "code",
   "execution_count": 14,
   "metadata": {},
   "outputs": [
    {
     "data": {
      "text/plain": [
       "'def process_video_feed(model):\\n    cap = cv2.VideoCapture(0, cv2.CAP_V4L2)  # Adjust backend for your OS\\n    cap.set(cv2.CAP_PROP_FRAME_WIDTH, 8)\\n    cap.set(cv2.CAP_PROP_FRAME_HEIGHT, 3.5)\\n    cap.set(cv2.CAP_PROP_FPS, 10)  # Adjust FPS\\n    \\n    if not cap.isOpened():\\n        print(\"Error: Could not open webcam.\")\\n        return\\n\\n    while True:\\n        ret, frame = cap.read()  # Capture frame\\n        if not ret:\\n            print(\"Error: Failed to grab frame.\")\\n            break\\n\\n        frame = cv2.resize(frame, (640, 480))\\n        results = model.predict(frame, conf=0.75)  # YOLO inference\\n        rendered_frame = results[0].plot()\\n        cv2.imshow(\"Webcam Feed\", rendered_frame)\\n\\n        if cv2.waitKey(1) & 0xFF == ord(\\'q\\'):\\n            break\\n    \\n    cap.release()\\n    cv2.destroyAllWindows()'"
      ]
     },
     "execution_count": 14,
     "metadata": {},
     "output_type": "execute_result"
    }
   ],
   "source": [
    "'''def process_video_feed(model):\n",
    "    cap = cv2.VideoCapture(0, cv2.CAP_V4L2)  # Adjust backend for your OS\n",
    "    cap.set(cv2.CAP_PROP_FRAME_WIDTH, 8)\n",
    "    cap.set(cv2.CAP_PROP_FRAME_HEIGHT, 3.5)\n",
    "    cap.set(cv2.CAP_PROP_FPS, 10)  # Adjust FPS\n",
    "    \n",
    "    if not cap.isOpened():\n",
    "        print(\"Error: Could not open webcam.\")\n",
    "        return\n",
    "\n",
    "    while True:\n",
    "        ret, frame = cap.read()  # Capture frame\n",
    "        if not ret:\n",
    "            print(\"Error: Failed to grab frame.\")\n",
    "            break\n",
    "\n",
    "        frame = cv2.resize(frame, (640, 480))\n",
    "        results = model.predict(frame, conf=0.75)  # YOLO inference\n",
    "        rendered_frame = results[0].plot()\n",
    "        cv2.imshow(\"Webcam Feed\", rendered_frame)\n",
    "\n",
    "        if cv2.waitKey(1) & 0xFF == ord('q'):\n",
    "            break\n",
    "    \n",
    "    cap.release()\n",
    "    cv2.destroyAllWindows()'''"
   ]
  },
  {
   "cell_type": "markdown",
   "metadata": {},
   "source": [
    "<strong>For Windows</strong>\n",
    "\n",
    "Testing video output for windows (different back end)"
   ]
  },
  {
   "cell_type": "code",
   "execution_count": 15,
   "metadata": {},
   "outputs": [
    {
     "data": {
      "text/plain": [
       "'def process_video_feed(model):\\n    cap = cv2.VideoCapture(0, cv2.CAP_DSHOW)  # Adjust backend for your OS\\n    cap.set(cv2.CAP_PROP_FRAME_WIDTH, 8)\\n    cap.set(cv2.CAP_PROP_FRAME_HEIGHT, 3.5)\\n    cap.set(cv2.CAP_PROP_FPS, 10)  # Adjust FPS\\n    \\n    if not cap.isOpened():\\n        print(\"Error: Could not open webcam.\")\\n        return\\n\\n    while True:\\n        ret, frame = cap.read()  # Capture frame\\n        if not ret:\\n            print(\"Error: Failed to grab frame.\")\\n            break\\n\\n        frame = cv2.resize(frame, (640, 480))\\n\\n        results = model.predict(frame, conf=0.75)  # YOLO inference\\n        rendered_frame = results[0].plot()\\n        cv2.imshow(\"Webcam Feed\", rendered_frame)\\n\\n        class_ids = [int(box.cls[0].item()) for box in results[0].boxes]\\n        print(class_ids)\\n\\n        if cv2.waitKey(1) & 0xFF == ord(\\'q\\'):\\n            break\\n    \\n    \\n    \\n    cap.release()\\n    cv2.destroyAllWindows()'"
      ]
     },
     "execution_count": 15,
     "metadata": {},
     "output_type": "execute_result"
    }
   ],
   "source": [
    "'''def process_video_feed(model):\n",
    "    cap = cv2.VideoCapture(0, cv2.CAP_DSHOW)  # Adjust backend for your OS\n",
    "    cap.set(cv2.CAP_PROP_FRAME_WIDTH, 8)\n",
    "    cap.set(cv2.CAP_PROP_FRAME_HEIGHT, 3.5)\n",
    "    cap.set(cv2.CAP_PROP_FPS, 10)  # Adjust FPS\n",
    "    \n",
    "    if not cap.isOpened():\n",
    "        print(\"Error: Could not open webcam.\")\n",
    "        return\n",
    "\n",
    "    while True:\n",
    "        ret, frame = cap.read()  # Capture frame\n",
    "        if not ret:\n",
    "            print(\"Error: Failed to grab frame.\")\n",
    "            break\n",
    "\n",
    "        frame = cv2.resize(frame, (640, 480))\n",
    "\n",
    "        results = model.predict(frame, conf=0.75)  # YOLO inference\n",
    "        rendered_frame = results[0].plot()\n",
    "        cv2.imshow(\"Webcam Feed\", rendered_frame)\n",
    "\n",
    "        class_ids = [int(box.cls[0].item()) for box in results[0].boxes]\n",
    "        print(class_ids)\n",
    "\n",
    "        if cv2.waitKey(1) & 0xFF == ord('q'):\n",
    "            break\n",
    "    \n",
    "    \n",
    "    \n",
    "    cap.release()\n",
    "    cv2.destroyAllWindows()'''"
   ]
  },
  {
   "cell_type": "code",
   "execution_count": 16,
   "metadata": {},
   "outputs": [],
   "source": [
    "# Start processing the webcam feed\n",
    "#process_video_feed(model)\n",
    "#main(model)\n"
   ]
  }
 ],
 "metadata": {
  "accelerator": "GPU",
  "colab": {
   "collapsed_sections": [
    "3BCBLWEHPxeW"
   ],
   "gpuType": "T4",
   "include_colab_link": true,
   "provenance": [],
   "toc_visible": true
  },
  "kernelspec": {
   "display_name": "Python 3",
   "name": "python3"
  },
  "language_info": {
   "codemirror_mode": {
    "name": "ipython",
    "version": 3
   },
   "file_extension": ".py",
   "mimetype": "text/x-python",
   "name": "python",
   "nbconvert_exporter": "python",
   "pygments_lexer": "ipython3",
   "version": "3.12.7"
  }
 },
 "nbformat": 4,
 "nbformat_minor": 0
}
